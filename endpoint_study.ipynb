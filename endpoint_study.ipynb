{
 "cells": [
  {
   "cell_type": "markdown",
   "metadata": {},
   "source": [
    "# `endpoint_study.ipynb`"
   ]
  },
  {
   "cell_type": "markdown",
   "metadata": {},
   "source": [
    "# Sweden"
   ]
  },
  {
   "cell_type": "code",
   "execution_count": 2,
   "metadata": {},
   "outputs": [
    {
     "data": {
      "text/plain": [
       "[{'id': 'AA', 'type': 'l', 'text': 'General statistics'},\n",
       " {'id': 'AM', 'type': 'l', 'text': 'Labour market'},\n",
       " {'id': 'BE', 'type': 'l', 'text': 'Population'},\n",
       " {'id': 'BO', 'type': 'l', 'text': 'Housing, construction and building'},\n",
       " {'id': 'EN', 'type': 'l', 'text': 'Energy'},\n",
       " {'id': 'FM', 'type': 'l', 'text': 'Financial markets'},\n",
       " {'id': 'HA', 'type': 'l', 'text': 'Trade in goods and services'},\n",
       " {'id': 'HE', 'type': 'l', 'text': 'Household finances'},\n",
       " {'id': 'JO', 'type': 'l', 'text': 'Agriculture, forestry and fishery'},\n",
       " {'id': 'LE', 'type': 'l', 'text': 'Living conditions'},\n",
       " {'id': 'ME', 'type': 'l', 'text': 'Democracy'},\n",
       " {'id': 'MI', 'type': 'l', 'text': 'Environment'},\n",
       " {'id': 'NR', 'type': 'l', 'text': 'National accounts'},\n",
       " {'id': 'NV', 'type': 'l', 'text': 'Business activities'},\n",
       " {'id': 'OE', 'type': 'l', 'text': 'Public finances'},\n",
       " {'id': 'PR', 'type': 'l', 'text': 'Prices and Consumption'},\n",
       " {'id': 'TK', 'type': 'l', 'text': 'Transport and communications'},\n",
       " {'id': 'UF', 'type': 'l', 'text': 'Education and research'}]"
      ]
     },
     "execution_count": 2,
     "metadata": {},
     "output_type": "execute_result"
    }
   ],
   "source": [
    "from PxWeb.swe import PWS\n",
    "\n",
    "stat_swe = PWS('en')\n",
    "stat_swe.info()"
   ]
  },
  {
   "cell_type": "markdown",
   "metadata": {},
   "source": [
    "# Finland"
   ]
  },
  {
   "cell_type": "code",
   "execution_count": 3,
   "metadata": {},
   "outputs": [
    {
     "data": {
      "text/plain": [
       "[{'dbid': 'Check', 'text': 'Check'},\n",
       " {'dbid': 'Hyvinvointialueet', 'text': 'Hyvinvointialueet'},\n",
       " {'dbid': 'Kokeelliset_tilastot', 'text': 'Kokeelliset_tilastot'},\n",
       " {'dbid': 'Kuntien_avainluvut', 'text': 'Kuntien_avainluvut'},\n",
       " {'dbid': 'Kuntien_talous_ja_toiminta', 'text': 'Kuntien_talous_ja_toiminta'},\n",
       " {'dbid': 'Maahanmuuttajat_ja_kotoutuminen',\n",
       "  'text': 'Maahanmuuttajat_ja_kotoutuminen'},\n",
       " {'dbid': 'NOVI-fi', 'text': 'NOVI-fi'},\n",
       " {'dbid': 'Postinumeroalueittainen_avoin_tieto',\n",
       "  'text': 'Postinumeroalueittainen_avoin_tieto'},\n",
       " {'dbid': 'SDG', 'text': 'SDG'},\n",
       " {'dbid': 'StatFin', 'text': 'StatFin'},\n",
       " {'dbid': 'StatFin_Passiivi', 'text': 'StatFin_Passiivi'},\n",
       " {'dbid': 'ymp', 'text': 'ymp'}]"
      ]
     },
     "execution_count": 3,
     "metadata": {},
     "output_type": "execute_result"
    }
   ],
   "source": [
    "from PxWeb.fin import PWF\n",
    "\n",
    "stat_fin = PWF('en')\n",
    "stat_fin.info()"
   ]
  },
  {
   "cell_type": "markdown",
   "metadata": {},
   "source": [
    "# Norway"
   ]
  },
  {
   "cell_type": "code",
   "execution_count": 4,
   "metadata": {},
   "outputs": [
    {
     "data": {
      "text/plain": [
       "[{'id': 'al', 'type': 'l', 'text': 'Labour market and earnings'},\n",
       " {'id': 'bf', 'type': 'l', 'text': 'Banking and financial markets'},\n",
       " {'id': 'vf', 'type': 'l', 'text': 'Establishments, enterprises and accounts'},\n",
       " {'id': 'be', 'type': 'l', 'text': 'Population'},\n",
       " {'id': 'bb', 'type': 'l', 'text': 'Construction, housing and property'},\n",
       " {'id': 'ei', 'type': 'l', 'text': 'Energy and manufacturing'},\n",
       " {'id': 'he', 'type': 'l', 'text': 'Health'},\n",
       " {'id': 'if', 'type': 'l', 'text': 'Income and consumption'},\n",
       " {'id': 'in', 'type': 'l', 'text': 'Immigration and immigrants'},\n",
       " {'id': 'js',\n",
       "  'type': 'l',\n",
       "  'text': 'Agriculture, forestry, hunting and fishing'},\n",
       " {'id': 'kf', 'type': 'l', 'text': 'Culture and recreation'},\n",
       " {'id': 'nk', 'type': 'l', 'text': 'National accounts and business cycles'},\n",
       " {'id': 'nm', 'type': 'l', 'text': 'Nature and the environment'},\n",
       " {'id': 'os', 'type': 'l', 'text': 'Public sector'},\n",
       " {'id': 'pp', 'type': 'l', 'text': 'Prices and price indices'},\n",
       " {'id': 'sk', 'type': 'l', 'text': 'Social conditions, welfare and crime'},\n",
       " {'id': 'sv', 'type': 'l', 'text': 'Svalbard'},\n",
       " {'id': 'ti', 'type': 'l', 'text': 'Technology and innovation'},\n",
       " {'id': 'tr', 'type': 'l', 'text': 'Transport and tourism'},\n",
       " {'id': 'ud', 'type': 'l', 'text': 'Education'},\n",
       " {'id': 'ut', 'type': 'l', 'text': 'External economy'},\n",
       " {'id': 'va', 'type': 'l', 'text': 'Elections'},\n",
       " {'id': 'vt',\n",
       "  'type': 'l',\n",
       "  'text': 'Wholesale and retail trade and service activities'}]"
      ]
     },
     "execution_count": 4,
     "metadata": {},
     "output_type": "execute_result"
    }
   ],
   "source": [
    "from PxWeb.nor import PWN\n",
    "\n",
    "stat_nor = PWN('en')\n",
    "stat_nor.info()"
   ]
  },
  {
   "cell_type": "markdown",
   "metadata": {},
   "source": [
    "# Estonia"
   ]
  },
  {
   "cell_type": "code",
   "execution_count": 5,
   "metadata": {},
   "outputs": [
    {
     "data": {
      "text/plain": [
       "[{'id': 'keskkond', 'type': 'l', 'text': 'Environment'},\n",
       " {'id': 'majandus', 'type': 'l', 'text': 'Economy'},\n",
       " {'id': 'rahvastik', 'type': 'l', 'text': 'Population'},\n",
       " {'id': 'sotsiaalelu', 'type': 'l', 'text': 'Social life'},\n",
       " {'id': 'eri-valdkondade-statistika',\n",
       "  'type': 'l',\n",
       "  'text': 'Multidomain statistics'},\n",
       " {'id': 'rahvaloendus', 'type': 'l', 'text': 'Population and Housing Census'},\n",
       " {'id': 'Lepetatud_tabelid', 'type': 'l', 'text': 'Discontinued datasets'}]"
      ]
     },
     "execution_count": 5,
     "metadata": {},
     "output_type": "execute_result"
    }
   ],
   "source": [
    "from PxWeb.est import PWE\n",
    "\n",
    "stat_est = PWE('en')\n",
    "stat_est.info()"
   ]
  }
 ],
 "metadata": {
  "kernelspec": {
   "display_name": "venv",
   "language": "python",
   "name": "python3"
  },
  "language_info": {
   "codemirror_mode": {
    "name": "ipython",
    "version": 3
   },
   "file_extension": ".py",
   "mimetype": "text/x-python",
   "name": "python",
   "nbconvert_exporter": "python",
   "pygments_lexer": "ipython3",
   "version": "3.10.12"
  }
 },
 "nbformat": 4,
 "nbformat_minor": 2
}

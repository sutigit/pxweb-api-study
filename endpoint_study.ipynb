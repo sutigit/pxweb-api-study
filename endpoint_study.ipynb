{
 "cells": [
  {
   "cell_type": "markdown",
   "metadata": {},
   "source": [
    "# `endpoint_study.ipynb`"
   ]
  },
  {
   "cell_type": "markdown",
   "metadata": {},
   "source": [
    "# Sweden"
   ]
  },
  {
   "cell_type": "code",
   "execution_count": null,
   "metadata": {},
   "outputs": [],
   "source": [
    "from PxWeb.swe import PWS\n",
    "import json\n",
    "\n",
    "# query data\n",
    "with open('Queries/sweden.json', 'r') as f:\n",
    "    qsw = json.load(f)\n",
    "\n",
    "ss = PWS('en')\n",
    "ss.info()\n"
   ]
  },
  {
   "cell_type": "markdown",
   "metadata": {},
   "source": [
    "# Finland"
   ]
  },
  {
   "cell_type": "code",
   "execution_count": null,
   "metadata": {},
   "outputs": [],
   "source": [
    "\n",
    "from PxWeb.fin import PWF\n",
    "import json\n",
    "\n",
    "# municipalities in Finland\n",
    "with open('query_variables/finland/municipalities.json', 'r', encoding='utf-8') as f:\n",
    "    region = json.load(f)\n",
    "    \n",
    "# options in Finland\n",
    "with open('query_variables/finland/options.json', 'r', encoding='utf-8') as f:\n",
    "    options = json.load(f)\n",
    "    \n",
    "# years in Finland\n",
    "with open('query_variables/finland/years.json', 'r', encoding='utf-8') as f:\n",
    "    years = json.load(f)\n",
    "    \n",
    "ind = 0\n",
    "\n",
    "sf = PWF('en')\n",
    "sf.go_down('Kuntien_avainluvut')\n",
    "sf.go_down('uusin')\n",
    "sf.go_down('142h.px')\n",
    "sf.set_query(Region=region, Information=options[ind], Year=years)\n",
    "data = sf.get_data()['data']\n",
    "ts_data = sf.data_to_timeseries(data, name=options[ind])\n",
    "\n",
    "\n",
    "# output ts_data as json to file: ./output/finland/fin_data_timeseries.json\n",
    "# with open('output/finland/fin_data_timeseries.json', 'w', encoding='utf-8') as f:\n",
    "#     json.dump(ts_data, f, ensure_ascii=False, indent=4, allow_nan=True)\n",
    "    \n",
    "\n",
    "\n"
   ]
  },
  {
   "cell_type": "markdown",
   "metadata": {},
   "source": [
    "# Norway"
   ]
  },
  {
   "cell_type": "code",
   "execution_count": null,
   "metadata": {},
   "outputs": [],
   "source": [
    "from PxWeb.nor import PWN\n",
    "import json\n",
    "\n",
    "# query data\n",
    "with open('Queries/norway.json', 'r') as f:\n",
    "    qno = json.load(f)\n",
    "\n",
    "sn = PWN('en')\n",
    "sn.info()"
   ]
  },
  {
   "cell_type": "markdown",
   "metadata": {},
   "source": [
    "# Estonia"
   ]
  },
  {
   "cell_type": "code",
   "execution_count": null,
   "metadata": {},
   "outputs": [],
   "source": [
    "from PxWeb.est import PWE\n",
    "import json\n",
    "\n",
    "# query data\n",
    "with open('Queries/estonia.json', 'r') as f:\n",
    "    qes = json.load(f)\n",
    "\n",
    "se = PWE('en')\n",
    "se.info()"
   ]
  }
 ],
 "metadata": {
  "kernelspec": {
   "display_name": "venv",
   "language": "python",
   "name": "python3"
  },
  "language_info": {
   "codemirror_mode": {
    "name": "ipython",
    "version": 3
   },
   "file_extension": ".py",
   "mimetype": "text/x-python",
   "name": "python",
   "nbconvert_exporter": "python",
   "pygments_lexer": "ipython3",
   "version": "3.10.12"
  }
 },
 "nbformat": 4,
 "nbformat_minor": 2
}

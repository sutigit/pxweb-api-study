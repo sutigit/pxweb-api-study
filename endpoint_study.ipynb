{
 "cells": [
  {
   "cell_type": "markdown",
   "metadata": {},
   "source": [
    "# `endpoint_study.ipynb`"
   ]
  },
  {
   "cell_type": "markdown",
   "metadata": {},
   "source": [
    "# Sweden"
   ]
  },
  {
   "cell_type": "code",
   "execution_count": null,
   "metadata": {},
   "outputs": [],
   "source": [
    "from PxWeb.swe import PWS\n",
    "import json\n",
    "\n",
    "# query data\n",
    "with open('Queries/sweden.json', 'r') as f:\n",
    "    qsw = json.load(f)\n",
    "\n",
    "ss = PWS('en')\n",
    "ss.go_down('AM')\n",
    "# ss.go_down('AA0003')\n",
    "# ss.go_down('AA0003F')\n",
    "# ss.go_down('IntGr5Kom')\n",
    "\n",
    "ss.info()\n",
    "# ss.get_variables()\n",
    "\n",
    "# ss.set_query(region=['Ekerö'], observations=['Average disposable income, number of price base amounts'], years=['2010', '2011', '2012', '2013', '2014', '2015', '2016', '2017'])\n",
    "# ss.get_query()\n",
    "\n",
    "# ss.get_data()\n"
   ]
  },
  {
   "cell_type": "markdown",
   "metadata": {},
   "source": [
    "# Finland"
   ]
  },
  {
   "cell_type": "code",
   "execution_count": null,
   "metadata": {},
   "outputs": [],
   "source": [
    "\n",
    "from PxWeb.fin import PWF\n",
    "import json\n",
    "\n",
    "# query data\n",
    "with open('Queries/finland.json', 'r') as f:\n",
    "    qfi = json.load(f)\n",
    "\n",
    "sf = PWF('en')\n",
    "sf.go_down('Kuntien_avainluvut')\n",
    "sf.go_down('uusin')\n",
    "sf.go_down('142h.px')\n",
    "sf.get_variables()\n",
    "sf.set_query(Region=qfi[\"Region\"], Information=qfi[\"Information\"][21], Year=qfi[\"Year\"])\n",
    "sf.get_data()\n"
   ]
  },
  {
   "cell_type": "markdown",
   "metadata": {},
   "source": [
    "# Norway"
   ]
  },
  {
   "cell_type": "code",
   "execution_count": null,
   "metadata": {},
   "outputs": [],
   "source": [
    "from PxWeb.nor import PWN\n",
    "import json\n",
    "\n",
    "# query data\n",
    "with open('Queries/norway.json', 'r') as f:\n",
    "    qno = json.load(f)\n",
    "\n",
    "sn = PWN('en')\n",
    "sn.info()"
   ]
  },
  {
   "cell_type": "markdown",
   "metadata": {},
   "source": [
    "# Estonia"
   ]
  },
  {
   "cell_type": "code",
   "execution_count": null,
   "metadata": {},
   "outputs": [],
   "source": [
    "from PxWeb.est import PWE\n",
    "import json\n",
    "\n",
    "# query data\n",
    "with open('Queries/estonia.json', 'r') as f:\n",
    "    qes = json.load(f)\n",
    "\n",
    "se = PWE('en')\n",
    "\n",
    "se.info()"
   ]
  }
 ],
 "metadata": {
  "kernelspec": {
   "display_name": "venv",
   "language": "python",
   "name": "python3"
  },
  "language_info": {
   "codemirror_mode": {
    "name": "ipython",
    "version": 3
   },
   "file_extension": ".py",
   "mimetype": "text/x-python",
   "name": "python",
   "nbconvert_exporter": "python",
   "pygments_lexer": "ipython3",
   "version": "3.10.12"
  }
 },
 "nbformat": 4,
 "nbformat_minor": 2
}
